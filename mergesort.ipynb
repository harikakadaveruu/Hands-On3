{
 "cells": [
  {
   "cell_type": "code",
   "execution_count": 1,
   "id": "bfe95612",
   "metadata": {},
   "outputs": [
    {
     "name": "stdout",
     "output_type": "stream",
     "text": [
      "[1, 2, 2, 3, 4, 5, 6, 7]\n"
     ]
    }
   ],
   "source": [
    "def merge_sort(a):\n",
    "    if len(a)<=1:\n",
    "        return a\n",
    "    mid=len(a)//2\n",
    "    left=merge_sort(a[:mid])\n",
    "    right=merge_sort(a[mid:])\n",
    "    return merge(left,right)\n",
    "\n",
    "def merge(left,right):\n",
    "    result=[]\n",
    "    i=j=0\n",
    "    while i<len(left) and j<len(right):\n",
    "        if left[i]<right[j]:\n",
    "            result.append(left[i])\n",
    "            i+=1\n",
    "        else:\n",
    "            result.append(right[j])\n",
    "            j+=1\n",
    "    result.extend(left[i:])\n",
    "    result.extend(right[j:])\n",
    "    return result\n",
    "\n",
    "a=[5,2,4,7,1,3,2,6]\n",
    "sorted_a=merge_sort(a)\n",
    "print(sorted_a)"
   ]
  },
  {
   "cell_type": "code",
   "execution_count": null,
   "id": "8332ebe0",
   "metadata": {},
   "outputs": [],
   "source": []
  }
 ],
 "metadata": {
  "kernelspec": {
   "display_name": "Python 3 (ipykernel)",
   "language": "python",
   "name": "python3"
  },
  "language_info": {
   "codemirror_mode": {
    "name": "ipython",
    "version": 3
   },
   "file_extension": ".py",
   "mimetype": "text/x-python",
   "name": "python",
   "nbconvert_exporter": "python",
   "pygments_lexer": "ipython3",
   "version": "3.11.5"
  }
 },
 "nbformat": 4,
 "nbformat_minor": 5
}
